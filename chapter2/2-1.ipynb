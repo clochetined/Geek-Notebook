{
 "cells": [
  {
   "cell_type": "code",
   "execution_count": null,
   "metadata": {},
   "outputs": [],
   "source": [
    "import numpy as np\n",
    "import pandas as pd #追加\n",
    "\n",
    "col_1 = np.array([23, 20, 15, 30, 25, 23, 19, 25, 40, 18, 34, 28])\n",
    "col_2 = np.array(['男', '女', '男', '男', '女', '男', '女', '男', '女', '女', '男', '女'])\n",
    "col_3 = np.array(['東京', '京都', '不明', '奈良', '新潟', '広島', '熊本', '北海道', '群馬', '不明', '神奈川', '宮城'])\n",
    "col_4 = np.array([50, 75, 99, 46, 70, 68, 55, 50, 90, 87, 80, 65])\n",
    "\n",
    "quiz =pd.DataFrame({'年齢':col_1, '性別':col_2, '出身':col_3, '得点':col_4})  #追加\n",
    "\n",
    "quiz"
   ]
  }
 ],
 "metadata": {
  "language_info": {
   "name": "python"
  },
  "orig_nbformat": 4
 },
 "nbformat": 4,
 "nbformat_minor": 2
}
